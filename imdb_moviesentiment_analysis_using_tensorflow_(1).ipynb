{
  "nbformat": 4,
  "nbformat_minor": 0,
  "metadata": {
    "kernelspec": {
      "display_name": "Python 3",
      "language": "python",
      "name": "python3"
    },
    "language_info": {
      "codemirror_mode": {
        "name": "ipython",
        "version": 3
      },
      "file_extension": ".py",
      "mimetype": "text/x-python",
      "name": "python",
      "nbconvert_exporter": "python",
      "pygments_lexer": "ipython3",
      "version": "3.6.4"
    },
    "colab": {
      "name": "imdb-moviesentiment-analysis-using-tensorflow (1).ipynb",
      "provenance": [],
      "include_colab_link": true
    }
  },
  "cells": [
    {
      "cell_type": "markdown",
      "metadata": {
        "id": "view-in-github",
        "colab_type": "text"
      },
      "source": [
        "<a href=\"https://colab.research.google.com/github/Emutisya/GBFS_UCS/blob/main/imdb_moviesentiment_analysis_using_tensorflow_(1).ipynb\" target=\"_parent\"><img src=\"https://colab.research.google.com/assets/colab-badge.svg\" alt=\"Open In Colab\"/></a>"
      ]
    },
    {
      "cell_type": "markdown",
      "metadata": {
        "_uuid": "bda30bb60722647ec9219ff4644dbf09991582bb",
        "id": "NH2a3t1oTjwW"
      },
      "source": [
        "We have imported the IMDB movie reviews\n",
        "We vectorized and normalized the data\n",
        "we compiled a multi layers NN\n",
        "Monitored the learning and validation curves for loss and accuracy\n"
      ]
    },
    {
      "cell_type": "code",
      "metadata": {
        "_cell_guid": "b1076dfc-b9ad-4769-8c92-a6c4dae69d19",
        "_uuid": "8f2839f25d086af736a60e9eeb907d3b93b6e0e5",
        "id": "nh5AtIOaTjwZ",
        "outputId": "6d8d1ac1-1e3a-49b9-c0fd-ad8759925fbc"
      },
      "source": [
        "# Importing necessary modules\n",
        "import os\n",
        "from operator import itemgetter    \n",
        "import numpy as np\n",
        "import pandas as pd\n",
        "import matplotlib.pyplot as plt\n",
        "import warnings\n",
        "\n",
        "warnings.filterwarnings('ignore')\n",
        "get_ipython().magic(u'matplotlib inline')\n",
        "plt.style.use('ggplot')\n",
        "\n",
        "import tensorflow as tf\n",
        "\n",
        "from keras import models, regularizers, layers, optimizers, losses, metrics\n",
        "from keras.models import Sequential\n",
        "from keras.layers import Dense\n",
        "from keras.utils import np_utils, to_categorical\n",
        " \n",
        "from keras.datasets import imdb\n",
        "\n",
        "print(os.getcwd())\n",
        "print(\"Modules imported \\n\")\n",
        "print(\"Files available in directory:\")\n",
        "from subprocess import check_output\n",
        " # Making sure files are  available in the directory\n",
        "print(check_output([\"ls\", \"../input\"]).decode(\"utf8\"))"
      ],
      "execution_count": null,
      "outputs": [
        {
          "output_type": "stream",
          "text": [
            "Using TensorFlow backend.\n"
          ],
          "name": "stderr"
        },
        {
          "output_type": "stream",
          "text": [
            "/kaggle/working\n",
            "Modules imported \n",
            "\n",
            "Files available in directory:\n",
            "\n"
          ],
          "name": "stdout"
        }
      ]
    },
    {
      "cell_type": "code",
      "metadata": {
        "_uuid": "2309a027762ad0f83018d32eb194af33bf128021",
        "id": "9Z3TBDqUTjwe",
        "outputId": "65cbcc67-758d-41f0-a068-373cc2276a75"
      },
      "source": [
        "# Load imported imdb data\n",
        "\n",
        "(train_data, train_labels), (test_data, test_labels) = imdb.load_data(\n",
        "num_words=10000)"
      ],
      "execution_count": null,
      "outputs": [
        {
          "output_type": "stream",
          "text": [
            "Downloading data from https://s3.amazonaws.com/text-datasets/imdb.npz\n",
            "17465344/17464789 [==============================] - 1s 0us/step\n"
          ],
          "name": "stdout"
        }
      ]
    },
    {
      "cell_type": "code",
      "metadata": {
        "_uuid": "563a5a8c65a26338fc42b0bcad94e3e4782be0b6",
        "id": "_y8f3alvTjwf",
        "outputId": "f9fdee6d-9218-416c-a984-758894a4b6fa"
      },
      "source": [
        "print(\"train_data \", train_data.shape)\n",
        "print(\"train_labels \", train_labels.shape)\n",
        "print(\"_\"*100)\n",
        "print(\"test_data \", test_data.shape)\n",
        "print(\"test_labels \", test_labels.shape)\n",
        "print(\"_\"*100)\n",
        "print(\"Maxvalue of a word index \")\n",
        "print(max([max(sequence) for sequence in train_data]))\n",
        "print(\"Max length of number words of review in train \")\n",
        "print(max([len(sequence) for sequence in train_data]))"
      ],
      "execution_count": null,
      "outputs": [
        {
          "output_type": "stream",
          "text": [
            "train_data  (25000,)\n",
            "train_labels  (25000,)\n",
            "____________________________________________________________________________________________________\n",
            "test_data  (25000,)\n",
            "test_labels  (25000,)\n",
            "____________________________________________________________________________________________________\n",
            "Maxvalue of a word index \n",
            "9999\n",
            "Max length of number words of review in train \n",
            "2494\n"
          ],
          "name": "stdout"
        }
      ]
    },
    {
      "cell_type": "code",
      "metadata": {
        "_uuid": "5db6853639628b911ccdd0e0ecc484f4beeb9284",
        "id": "bChVBOhwTjwf",
        "outputId": "dc5884be-2b49-493d-ca73-11c55aab712d"
      },
      "source": [
        "# review in words\n",
        "# Reverse from integers to words\n",
        "\n",
        "word_index = imdb.get_word_index()\n",
        "\n",
        "reverse_word_index = dict(\n",
        "[(value, key) for (key, value) in word_index.items()])\n",
        "\n",
        "decoded_review = ' '.join(\n",
        "[reverse_word_index.get(i - 3, '?') for i in train_data[123]])\n",
        "\n",
        "print(decoded_review)"
      ],
      "execution_count": null,
      "outputs": [
        {
          "output_type": "stream",
          "text": [
            "Downloading data from https://s3.amazonaws.com/text-datasets/imdb_word_index.json\n",
            "1646592/1641221 [==============================] - 0s 0us/step\n",
            "? beautiful and touching movie rich colors great settings good acting and one of the most charming movies i have seen in a while i never saw such an interesting setting when i was in china my wife liked it so much she asked me to ? on and rate it so other would enjoy too\n"
          ],
          "name": "stdout"
        }
      ]
    },
    {
      "cell_type": "code",
      "metadata": {
        "_uuid": "080f1f790e7294231c1e62c1688666589d51a200",
        "id": "VkL6mrJ0Tjwg"
      },
      "source": [
        "# vectorize\n",
        "# Encoding the integer sequences into a binary matrix\n",
        "#matrix of 10k columns\n",
        "\n",
        "def vectorize_sequences(sequences, dimension=10000):\n",
        "    results = np.zeros((len(sequences), dimension))\n",
        "    for i, sequence in enumerate(sequences):\n",
        "        results[i, sequence] = 1.\n",
        "    return results"
      ],
      "execution_count": null,
      "outputs": []
    },
    {
      "cell_type": "code",
      "metadata": {
        "_uuid": "f012f8661fd781a95bd6c01197b7a93e944ff38e",
        "id": "GeZFH7uwTjwh",
        "outputId": "d9848ed9-7a15-462d-e663-9f434bc1e076"
      },
      "source": [
        "x_train = vectorize_sequences(train_data)\n",
        "x_test = vectorize_sequences(test_data)\n",
        "\n",
        "print(\"x_train \", x_train.shape)\n",
        "print(\"x_test \", x_test.shape)"
      ],
      "execution_count": null,
      "outputs": [
        {
          "output_type": "stream",
          "text": [
            "x_train  (25000, 10000)\n",
            "x_test  (25000, 10000)\n"
          ],
          "name": "stdout"
        }
      ]
    },
    {
      "cell_type": "code",
      "metadata": {
        "_uuid": "d561665727e49217e14c86804f148adb6899a7b7",
        "id": "NYgEYhy6Tjwi",
        "outputId": "e4d86792-4fc6-4d90-b753-89389e4f2b5e"
      },
      "source": [
        "# vectorizing the labels \n",
        "\n",
        "y_train = np.asarray(train_labels).astype('float32')\n",
        "y_test = np.asarray(test_labels).astype('float32')\n",
        "print(\"y_train \", y_train.shape)\n",
        "print(\"y_test \", y_test.shape)"
      ],
      "execution_count": null,
      "outputs": [
        {
          "output_type": "stream",
          "text": [
            "y_train  (25000,)\n",
            "y_test  (25000,)\n"
          ],
          "name": "stdout"
        }
      ]
    },
    {
      "cell_type": "code",
      "metadata": {
        "_uuid": "bccb4315c1d69c18cab22a633dc68abdff4b35fb",
        "id": "sxm4105MTjwi",
        "outputId": "03fe7d2c-b895-4e45-b6ba-4d76e6aa1839"
      },
      "source": [
        "# setting a validation set\n",
        "x_val = x_train[:10000]\n",
        "partial_x_train = x_train[10000:]\n",
        "y_val = y_train[:10000]\n",
        "partial_y_train = y_train[10000:]\n",
        "\n",
        "print(\"x_val \", x_val.shape)\n",
        "print(\"partial_x_train \", partial_x_train.shape)\n",
        "print(\"y_val \", y_val.shape)\n",
        "print(\"partial_y_train \", partial_y_train.shape)"
      ],
      "execution_count": null,
      "outputs": [
        {
          "output_type": "stream",
          "text": [
            "x_val  (10000, 10000)\n",
            "partial_x_train  (15000, 10000)\n",
            "y_val  (10000,)\n",
            "partial_y_train  (15000,)\n"
          ],
          "name": "stdout"
        }
      ]
    },
    {
      "cell_type": "code",
      "metadata": {
        "_uuid": "cf2a055346b2e3252b103f1d0bab9e786e5d5eba",
        "id": "nJSqphuSTjwj"
      },
      "source": [
        "# nn model\n",
        "\n",
        "model = models.Sequential()\n",
        "model.add(layers.Dense(16, kernel_regularizer=regularizers.l1(0.001), activation='relu', input_shape=(10000,)))\n",
        "model.add(layers.Dropout(0.5))\n",
        "model.add(layers.Dense(16, kernel_regularizer=regularizers.l1(0.001),activation='relu'))\n",
        "model.add(layers.Dropout(0.5))\n",
        "model.add(layers.Dense(1, activation='sigmoid'))\n"
      ],
      "execution_count": null,
      "outputs": []
    },
    {
      "cell_type": "code",
      "metadata": {
        "_uuid": "356f3351bfa767aca48e91d305961dda2d3b9a9d",
        "scrolled": true,
        "id": "MMVTff6MTjwk",
        "outputId": "a78b187a-6331-4695-d32f-d7a100835f87"
      },
      "source": [
        "#training the model\n",
        "\n",
        "NumEpochs = 10\n",
        "BatchSize = 512\n",
        "\n",
        "model.compile(optimizer='rmsprop', loss='binary_crossentropy', metrics=['acc'])\n",
        "\n",
        "history = model.fit(partial_x_train, partial_y_train, epochs=NumEpochs, batch_size=BatchSize, validation_data=(x_val, y_val))\n",
        "\n",
        "results = model.evaluate(x_test, y_test)\n",
        "print(\"_\"*100)\n",
        "print(\"Test Loss and Accuracy\")\n",
        "print(\"results \", results)\n",
        "history_dict = history.history\n",
        "history_dict.keys()"
      ],
      "execution_count": null,
      "outputs": [
        {
          "output_type": "stream",
          "text": [
            "Train on 15000 samples, validate on 10000 samples\n",
            "Epoch 1/10\n",
            "15000/15000 [==============================] - 9s 606us/step - loss: 1.1558 - acc: 0.6286 - val_loss: 0.8060 - val_acc: 0.8060\n",
            "Epoch 2/10\n",
            "15000/15000 [==============================] - 2s 121us/step - loss: 0.7839 - acc: 0.7043 - val_loss: 0.7478 - val_acc: 0.7481\n",
            "Epoch 3/10\n",
            "15000/15000 [==============================] - 2s 122us/step - loss: 0.7509 - acc: 0.7435 - val_loss: 0.6964 - val_acc: 0.8464\n",
            "Epoch 4/10\n",
            "15000/15000 [==============================] - 2s 121us/step - loss: 0.7230 - acc: 0.7749 - val_loss: 0.6972 - val_acc: 0.7901\n",
            "Epoch 5/10\n",
            "15000/15000 [==============================] - 2s 121us/step - loss: 0.7020 - acc: 0.7929 - val_loss: 0.6496 - val_acc: 0.8441\n",
            "Epoch 6/10\n",
            "15000/15000 [==============================] - 2s 133us/step - loss: 0.6852 - acc: 0.8035 - val_loss: 0.6232 - val_acc: 0.8515\n",
            "Epoch 7/10\n",
            "15000/15000 [==============================] - 2s 121us/step - loss: 0.6677 - acc: 0.8150 - val_loss: 0.6057 - val_acc: 0.8497\n",
            "Epoch 8/10\n",
            "15000/15000 [==============================] - 2s 121us/step - loss: 0.6622 - acc: 0.8200 - val_loss: 0.5955 - val_acc: 0.8546\n",
            "Epoch 9/10\n",
            "15000/15000 [==============================] - 2s 121us/step - loss: 0.6429 - acc: 0.8325 - val_loss: 0.5785 - val_acc: 0.8589\n",
            "Epoch 10/10\n",
            "15000/15000 [==============================] - 2s 119us/step - loss: 0.6398 - acc: 0.8380 - val_loss: 0.5982 - val_acc: 0.8437\n",
            "25000/25000 [==============================] - 2s 82us/step\n",
            "____________________________________________________________________________________________________\n",
            "Test Loss and Accuracy\n",
            "results  [0.6019887410545349, 0.83904]\n"
          ],
          "name": "stdout"
        },
        {
          "output_type": "execute_result",
          "data": {
            "text/plain": [
              "dict_keys(['val_loss', 'val_acc', 'loss', 'acc'])"
            ]
          },
          "metadata": {
            "tags": []
          },
          "execution_count": 10
        }
      ]
    },
    {
      "cell_type": "code",
      "metadata": {
        "_uuid": "41489e2204c5d4159f5c90a350aa3ad839e03355",
        "id": "9IENV8-OTjwl",
        "outputId": "5833ba8e-067c-452e-e818-245d3f7c57d2"
      },
      "source": [
        "#checking validation through curve loss\n",
        "plt.clf()\n",
        "history_dict = history.history\n",
        "loss_values = history_dict['loss']\n",
        "val_loss_values = history_dict['val_loss']\n",
        "epochs = range(1, (len(history_dict['loss']) + 1))\n",
        "plt.plot(epochs, loss_values, 'bo', label='Training loss')\n",
        "plt.plot(epochs, val_loss_values, 'b', label='Validation loss')\n",
        "plt.title('Training and validation loss')\n",
        "plt.xlabel('Epochs')\n",
        "plt.ylabel('Loss')\n",
        "plt.legend()\n",
        "plt.show()"
      ],
      "execution_count": null,
      "outputs": [
        {
          "output_type": "display_data",
          "data": {
            "image/png": "[encoded data removed]",
            "text/plain": [
              "<matplotlib.figure.Figure at 0x7f961d2f82e8>"
            ]
          },
          "metadata": {
            "tags": []
          }
        }
      ]
    },
    {
      "cell_type": "code",
      "metadata": {
        "_uuid": "abfa37123f9f403041a1c12edd6a87070b78c5ef",
        "id": "Gr9PfUK7Tjwl",
        "outputId": "9da47236-3daa-4eda-a318-caffce43bcfc"
      },
      "source": [
        "#validation accuracy curves\n",
        "plt.clf()\n",
        "acc_values = history_dict['acc']\n",
        "val_acc_values = history_dict['val_acc']\n",
        "epochs = range(1, (len(history_dict['acc']) + 1))\n",
        "plt.plot(epochs, acc_values, 'bo', label='Training acc')\n",
        "plt.plot(epochs, val_acc_values, 'b', label='Validation acc')\n",
        "plt.title('Training and validation accuracy')\n",
        "plt.xlabel('Epochs')\n",
        "plt.ylabel('Accuracy')\n",
        "plt.legend()\n",
        "plt.show()"
      ],
      "execution_count": null,
      "outputs": [
        {
          "output_type": "display_data",
          "data": {
            "image/png": "[encoded data removed]",
            "text/plain": [
              "<matplotlib.figure.Figure at 0x7f961d1bfcf8>"
            ]
          },
          "metadata": {
            "tags": []
          }
        }
      ]
    },
    {
      "cell_type": "code",
      "metadata": {
        "_uuid": "2fda90fab3c7038df8291fa4f3185fbb62e9aed4",
        "id": "8RgKaUiiTjwm",
        "outputId": "004809e0-47c4-4abe-aac2-a10a27fc98e7"
      },
      "source": [
        "# prediction\n",
        "\n",
        "model.predict(x_test)"
      ],
      "execution_count": null,
      "outputs": [
        {
          "output_type": "execute_result",
          "data": {
            "text/plain": [
              "array([[0.27089825],\n",
              "       [0.9590546 ],\n",
              "       [0.51789945],\n",
              "       ...,\n",
              "       [0.19693434],\n",
              "       [0.18540573],\n",
              "       [0.27462798]], dtype=float32)"
            ]
          },
          "metadata": {
            "tags": []
          },
          "execution_count": 13
        }
      ]
    }
  ]
}